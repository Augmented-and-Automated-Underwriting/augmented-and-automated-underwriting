{
 "cells": [
  {
   "cell_type": "markdown",
   "metadata": {
    "_cell_guid": "b1076dfc-b9ad-4769-8c92-a6c4dae69d19",
    "_kg_hide-input": false,
    "_kg_hide-output": true,
    "_uuid": "8f2839f25d086af736a60e9eeb907d3b93b6e0e5",
    "execution": {
     "iopub.execute_input": "2021-09-30T07:18:51.654028Z",
     "iopub.status.busy": "2021-09-30T07:18:51.653688Z",
     "iopub.status.idle": "2021-09-30T07:19:00.571233Z",
     "shell.execute_reply": "2021-09-30T07:19:00.570246Z",
     "shell.execute_reply.started": "2021-09-30T07:18:51.65394Z"
    }
   },
   "source": [
    "# **Classification With Model Interpretation**  💯 💯"
   ]
  },
  {
   "cell_type": "markdown",
   "metadata": {},
   "source": [
    "# **Importing Modules**\n"
   ]
  },
  {
   "cell_type": "code",
   "execution_count": 2,
   "metadata": {
    "_kg_hide-input": true,
    "_kg_hide-output": true,
    "execution": {
     "iopub.execute_input": "2022-01-06T08:33:50.285632Z",
     "iopub.status.busy": "2022-01-06T08:33:50.285122Z",
     "iopub.status.idle": "2022-01-06T08:33:55.210635Z",
     "shell.execute_reply": "2022-01-06T08:33:55.209956Z",
     "shell.execute_reply.started": "2022-01-06T08:33:50.285527Z"
    }
   },
   "outputs": [
    {
     "ename": "ModuleNotFoundError",
     "evalue": "No module named 'xgboost'",
     "output_type": "error",
     "traceback": [
      "\u001b[0;31m---------------------------------------------------------------------------\u001b[0m",
      "\u001b[0;31mModuleNotFoundError\u001b[0m                       Traceback (most recent call last)",
      "\u001b[0;32m/tmp/ipykernel_18800/2874792972.py\u001b[0m in \u001b[0;36m<module>\u001b[0;34m\u001b[0m\n\u001b[1;32m     13\u001b[0m \u001b[0;32mfrom\u001b[0m \u001b[0msklearn\u001b[0m \u001b[0;32mimport\u001b[0m \u001b[0mensemble\u001b[0m\u001b[0;34m\u001b[0m\u001b[0;34m\u001b[0m\u001b[0m\n\u001b[1;32m     14\u001b[0m \u001b[0;32mfrom\u001b[0m \u001b[0msklearn\u001b[0m\u001b[0;34m.\u001b[0m\u001b[0mensemble\u001b[0m \u001b[0;32mimport\u001b[0m \u001b[0mGradientBoostingClassifier\u001b[0m\u001b[0;34m\u001b[0m\u001b[0;34m\u001b[0m\u001b[0m\n\u001b[0;32m---> 15\u001b[0;31m \u001b[0;32mfrom\u001b[0m \u001b[0mxgboost\u001b[0m \u001b[0;32mimport\u001b[0m \u001b[0mXGBClassifier\u001b[0m\u001b[0;34m\u001b[0m\u001b[0;34m\u001b[0m\u001b[0m\n\u001b[0m\u001b[1;32m     16\u001b[0m \u001b[0;32mfrom\u001b[0m \u001b[0msklearn\u001b[0m\u001b[0;34m.\u001b[0m\u001b[0mmetrics\u001b[0m \u001b[0;32mimport\u001b[0m \u001b[0maccuracy_score\u001b[0m\u001b[0;34m,\u001b[0m\u001b[0mroc_auc_score\u001b[0m\u001b[0;34m,\u001b[0m\u001b[0mconfusion_matrix\u001b[0m\u001b[0;34m\u001b[0m\u001b[0;34m\u001b[0m\u001b[0m\n\u001b[1;32m     17\u001b[0m \u001b[0;32mfrom\u001b[0m \u001b[0msklearn\u001b[0m\u001b[0;34m.\u001b[0m\u001b[0mlinear_model\u001b[0m \u001b[0;32mimport\u001b[0m \u001b[0mLogisticRegression\u001b[0m\u001b[0;34m\u001b[0m\u001b[0;34m\u001b[0m\u001b[0m\n",
      "\u001b[0;31mModuleNotFoundError\u001b[0m: No module named 'xgboost'"
     ]
    }
   ],
   "source": [
    "from sklearn.metrics import log_loss\n",
    "import pandas as pd\n",
    "import numpy as np\n",
    "import matplotlib.pyplot as plt\n",
    "import seaborn as sns\n",
    "from sklearn.ensemble import RandomForestClassifier\n",
    "from pprint import pprint\n",
    "from sklearn.model_selection import train_test_split\n",
    "from sklearn.preprocessing import OneHotEncoder\n",
    "from sklearn.model_selection import GridSearchCV\n",
    "from sklearn.model_selection import RandomizedSearchCV\n",
    "from sklearn.model_selection import train_test_split\n",
    "from sklearn import ensemble\n",
    "from sklearn.ensemble import GradientBoostingClassifier\n",
    "from xgboost import XGBClassifier\n",
    "from sklearn.metrics import accuracy_score,roc_auc_score,confusion_matrix\n",
    "from sklearn.linear_model import LogisticRegression \n",
    "from sklearn.metrics import accuracy_score, f1_score, precision_score, recall_score, classification_report, confusion_matrix,r2_score\n",
    "import warnings\n",
    "from mlxtend.classifier import StackingClassifier\n",
    "import missingno as msno\n",
    "from sklearn.ensemble import VotingClassifier\n",
    "import shap\n",
    "shap.initjs()\n",
    "import lime\n",
    "from lime import lime_tabular\n",
    "warnings.simplefilter('ignore')\n",
    "import os\n",
    "plt.style.use('fivethirtyeight')\n",
    "plt.style.use('dark_background')\n",
    "\n",
    "\n"
   ]
  },
  {
   "cell_type": "markdown",
   "metadata": {},
   "source": [
    "# **Reading Data**"
   ]
  },
  {
   "cell_type": "code",
   "execution_count": 1,
   "metadata": {
    "_kg_hide-input": true,
    "execution": {
     "iopub.execute_input": "2022-01-06T08:33:55.21255Z",
     "iopub.status.busy": "2022-01-06T08:33:55.211878Z",
     "iopub.status.idle": "2022-01-06T08:33:56.082231Z",
     "shell.execute_reply": "2022-01-06T08:33:56.081587Z",
     "shell.execute_reply.started": "2022-01-06T08:33:55.212515Z"
    }
   },
   "outputs": [
    {
     "ename": "NameError",
     "evalue": "name 'pd' is not defined",
     "output_type": "error",
     "traceback": [
      "\u001b[0;31m---------------------------------------------------------------------------\u001b[0m",
      "\u001b[0;31mNameError\u001b[0m                                 Traceback (most recent call last)",
      "\u001b[0;32m/tmp/ipykernel_18800/236771930.py\u001b[0m in \u001b[0;36m<module>\u001b[0;34m\u001b[0m\n\u001b[0;32m----> 1\u001b[0;31m \u001b[0minsurance_df\u001b[0m \u001b[0;34m=\u001b[0m \u001b[0mpd\u001b[0m\u001b[0;34m.\u001b[0m\u001b[0mread_csv\u001b[0m\u001b[0;34m(\u001b[0m\u001b[0;34m'train.csv'\u001b[0m\u001b[0;34m,\u001b[0m \u001b[0mindex_col\u001b[0m\u001b[0;34m=\u001b[0m\u001b[0;34m'Id'\u001b[0m\u001b[0;34m)\u001b[0m\u001b[0;34m\u001b[0m\u001b[0;34m\u001b[0m\u001b[0m\n\u001b[0m\u001b[1;32m      2\u001b[0m \u001b[0minsurance_df\u001b[0m\u001b[0;34m.\u001b[0m\u001b[0mhead\u001b[0m\u001b[0;34m(\u001b[0m\u001b[0;34m)\u001b[0m\u001b[0;34m\u001b[0m\u001b[0;34m\u001b[0m\u001b[0m\n",
      "\u001b[0;31mNameError\u001b[0m: name 'pd' is not defined"
     ]
    }
   ],
   "source": [
    "insurance_df = pd.read_csv('train.csv', index_col='Id')\n",
    "insurance_df.head()"
   ]
  },
  {
   "cell_type": "markdown",
   "metadata": {},
   "source": [
    "# **Shape**"
   ]
  },
  {
   "cell_type": "code",
   "execution_count": null,
   "metadata": {
    "_kg_hide-input": true,
    "execution": {
     "iopub.execute_input": "2022-01-06T08:33:56.083605Z",
     "iopub.status.busy": "2022-01-06T08:33:56.083225Z",
     "iopub.status.idle": "2022-01-06T08:33:56.089642Z",
     "shell.execute_reply": "2022-01-06T08:33:56.088604Z",
     "shell.execute_reply.started": "2022-01-06T08:33:56.083577Z"
    }
   },
   "outputs": [],
   "source": [
    "insurance_df.shape"
   ]
  },
  {
   "cell_type": "markdown",
   "metadata": {},
   "source": [
    "# **Distribution of Target Variable**"
   ]
  },
  {
   "cell_type": "code",
   "execution_count": null,
   "metadata": {
    "_kg_hide-input": true,
    "execution": {
     "iopub.execute_input": "2022-01-06T08:33:56.0929Z",
     "iopub.status.busy": "2022-01-06T08:33:56.092106Z",
     "iopub.status.idle": "2022-01-06T08:33:56.108798Z",
     "shell.execute_reply": "2022-01-06T08:33:56.107828Z",
     "shell.execute_reply.started": "2022-01-06T08:33:56.092844Z"
    }
   },
   "outputs": [],
   "source": [
    "insurance_df['Response'].value_counts()"
   ]
  },
  {
   "cell_type": "markdown",
   "metadata": {},
   "source": [
    "> **Class imbalance can be seen here. Also there 8 categories, lets combine them to 3 categories**\n"
   ]
  },
  {
   "cell_type": "code",
   "execution_count": null,
   "metadata": {
    "_kg_hide-input": true,
    "execution": {
     "iopub.execute_input": "2022-01-06T08:33:56.111411Z",
     "iopub.status.busy": "2022-01-06T08:33:56.110457Z",
     "iopub.status.idle": "2022-01-06T08:33:56.35635Z",
     "shell.execute_reply": "2022-01-06T08:33:56.355439Z",
     "shell.execute_reply.started": "2022-01-06T08:33:56.111369Z"
    }
   },
   "outputs": [],
   "source": [
    "sns.countplot(x=insurance_df['Response']);"
   ]
  },
  {
   "cell_type": "markdown",
   "metadata": {},
   "source": [
    "**Response 8 has highest values and 3 has the least**"
   ]
  },
  {
   "cell_type": "markdown",
   "metadata": {},
   "source": [
    "# **Processing Target Variable**"
   ]
  },
  {
   "cell_type": "code",
   "execution_count": null,
   "metadata": {
    "_kg_hide-input": true,
    "execution": {
     "iopub.execute_input": "2022-01-06T08:33:56.358053Z",
     "iopub.status.busy": "2022-01-06T08:33:56.357716Z",
     "iopub.status.idle": "2022-01-06T08:33:56.387002Z",
     "shell.execute_reply": "2022-01-06T08:33:56.386173Z",
     "shell.execute_reply.started": "2022-01-06T08:33:56.358012Z"
    }
   },
   "outputs": [],
   "source": [
    "#Combining the Categores to 3 categories\n",
    "insurance_df['Modified_Response']  = insurance_df['Response'].apply(lambda x : 0 if x<=7 and x>=0 else (1 if x==8 else -1))"
   ]
  },
  {
   "cell_type": "code",
   "execution_count": null,
   "metadata": {
    "_kg_hide-input": true,
    "execution": {
     "iopub.execute_input": "2022-01-06T08:33:56.388572Z",
     "iopub.status.busy": "2022-01-06T08:33:56.388306Z",
     "iopub.status.idle": "2022-01-06T08:33:56.561749Z",
     "shell.execute_reply": "2022-01-06T08:33:56.56089Z",
     "shell.execute_reply.started": "2022-01-06T08:33:56.388544Z"
    }
   },
   "outputs": [],
   "source": [
    "sns.countplot(x= insurance_df['Modified_Response']);"
   ]
  },
  {
   "cell_type": "markdown",
   "metadata": {},
   "source": [
    "> **Still some imbalance can be seen**"
   ]
  },
  {
   "cell_type": "markdown",
   "metadata": {},
   "source": [
    "# **Removing old target variable**"
   ]
  },
  {
   "cell_type": "code",
   "execution_count": null,
   "metadata": {
    "_kg_hide-input": true,
    "execution": {
     "iopub.execute_input": "2022-01-06T08:33:56.563203Z",
     "iopub.status.busy": "2022-01-06T08:33:56.562953Z",
     "iopub.status.idle": "2022-01-06T08:33:56.642968Z",
     "shell.execute_reply": "2022-01-06T08:33:56.641853Z",
     "shell.execute_reply.started": "2022-01-06T08:33:56.563177Z"
    }
   },
   "outputs": [],
   "source": [
    "# Dropping old response columns\n",
    "insurance_df.drop('Response',axis = 1, inplace=True)"
   ]
  },
  {
   "cell_type": "markdown",
   "metadata": {},
   "source": [
    "# **Making categorical and numerical columns list**"
   ]
  },
  {
   "cell_type": "code",
   "execution_count": null,
   "metadata": {
    "_kg_hide-input": true,
    "execution": {
     "iopub.execute_input": "2022-01-06T08:33:56.644639Z",
     "iopub.status.busy": "2022-01-06T08:33:56.644341Z",
     "iopub.status.idle": "2022-01-06T08:33:56.655551Z",
     "shell.execute_reply": "2022-01-06T08:33:56.654442Z",
     "shell.execute_reply.started": "2022-01-06T08:33:56.644609Z"
    }
   },
   "outputs": [],
   "source": [
    "# Making lists with categorical and numerical features.\n",
    "categorical =  [col for col in insurance_df.columns if insurance_df[col].dtype =='object']\n",
    "\n",
    "numerical = categorical =  [col for col in insurance_df.columns if insurance_df[col].dtype !='object']"
   ]
  },
  {
   "cell_type": "markdown",
   "metadata": {},
   "source": [
    "# **Visualizations On Categorical Features**"
   ]
  },
  {
   "cell_type": "code",
   "execution_count": null,
   "metadata": {
    "_kg_hide-input": true,
    "_kg_hide-output": true,
    "execution": {
     "iopub.execute_input": "2022-01-06T08:33:56.658735Z",
     "iopub.status.busy": "2022-01-06T08:33:56.658048Z",
     "iopub.status.idle": "2022-01-06T08:34:13.933835Z",
     "shell.execute_reply": "2022-01-06T08:34:13.932749Z",
     "shell.execute_reply.started": "2022-01-06T08:33:56.658698Z"
    }
   },
   "outputs": [],
   "source": [
    "# Doing count plots for categorical\n",
    "for col in categorical:\n",
    "    counts = insurance_df[col].value_counts().sort_index()\n",
    "    if len(counts) > 10 and len(counts) < 50 :\n",
    "      fig = plt.figure(figsize=(30, 10))\n",
    "    elif len(counts) >50 :\n",
    "      continue\n",
    "    else:\n",
    "      fig = plt.figure(figsize=(9, 6))\n",
    "    ax = fig.gca()\n",
    "    counts.plot.bar(ax = ax, color='steelblue')\n",
    "    ax.set_title(col + ' counts')\n",
    "    ax.set_xlabel(col) \n",
    "    ax.set_ylabel(\"Frequency\")\n",
    "plt.show()"
   ]
  },
  {
   "cell_type": "markdown",
   "metadata": {},
   "source": [
    "> **D3 has the highest frequencies**\n",
    "\n",
    "> Most of the features here are unbalanced."
   ]
  },
  {
   "cell_type": "code",
   "execution_count": null,
   "metadata": {
    "_kg_hide-input": true,
    "execution": {
     "iopub.execute_input": "2022-01-06T08:34:13.935604Z",
     "iopub.status.busy": "2022-01-06T08:34:13.935149Z",
     "iopub.status.idle": "2022-01-06T08:34:14.679002Z",
     "shell.execute_reply": "2022-01-06T08:34:14.678116Z",
     "shell.execute_reply.started": "2022-01-06T08:34:13.935568Z"
    }
   },
   "outputs": [],
   "source": [
    "fig, axes = plt.subplots(1,2,figsize=(10,5))\n",
    "sns.distplot(insurance_df['Employment_Info_1'], ax=axes[0])\n",
    "sns.boxplot(insurance_df['Employment_Info_1'], ax=axes[1])"
   ]
  },
  {
   "cell_type": "markdown",
   "metadata": {},
   "source": [
    "> Right skewed.\n",
    "\n",
    "> Outliers can be seen."
   ]
  },
  {
   "cell_type": "code",
   "execution_count": null,
   "metadata": {
    "_kg_hide-input": true,
    "execution": {
     "iopub.execute_input": "2022-01-06T08:34:14.681014Z",
     "iopub.status.busy": "2022-01-06T08:34:14.680493Z",
     "iopub.status.idle": "2022-01-06T08:34:15.369446Z",
     "shell.execute_reply": "2022-01-06T08:34:15.368439Z",
     "shell.execute_reply.started": "2022-01-06T08:34:14.680968Z"
    }
   },
   "outputs": [],
   "source": [
    "fig, axes = plt.subplots(1,2,figsize=(10,5))\n",
    "sns.distplot(insurance_df['Employment_Info_4'], ax=axes[0])\n",
    "sns.boxplot(insurance_df['Employment_Info_4'], ax=axes[1])"
   ]
  },
  {
   "cell_type": "code",
   "execution_count": null,
   "metadata": {
    "_kg_hide-input": true,
    "execution": {
     "iopub.execute_input": "2022-01-06T08:34:15.37126Z",
     "iopub.status.busy": "2022-01-06T08:34:15.370851Z",
     "iopub.status.idle": "2022-01-06T08:34:16.031288Z",
     "shell.execute_reply": "2022-01-06T08:34:16.030242Z",
     "shell.execute_reply.started": "2022-01-06T08:34:15.371218Z"
    }
   },
   "outputs": [],
   "source": [
    "fig, axes = plt.subplots(1,2,figsize=(10,5))\n",
    "sns.distplot(insurance_df['Employment_Info_6'], ax=axes[0])\n",
    "sns.boxplot(insurance_df['Employment_Info_6'], ax=axes[1])"
   ]
  },
  {
   "cell_type": "code",
   "execution_count": null,
   "metadata": {
    "_kg_hide-input": true,
    "execution": {
     "iopub.execute_input": "2022-01-06T08:34:16.033376Z",
     "iopub.status.busy": "2022-01-06T08:34:16.033053Z",
     "iopub.status.idle": "2022-01-06T08:34:16.66107Z",
     "shell.execute_reply": "2022-01-06T08:34:16.660257Z",
     "shell.execute_reply.started": "2022-01-06T08:34:16.033309Z"
    }
   },
   "outputs": [],
   "source": [
    "fig, axes = plt.subplots(1,2,figsize=(10,5))\n",
    "sns.distplot(insurance_df['Family_Hist_4'], ax=axes[0])\n",
    "sns.boxplot(insurance_df['Family_Hist_4'], ax=axes[1])"
   ]
  },
  {
   "cell_type": "markdown",
   "metadata": {},
   "source": [
    "# **Checking Correlation For Features greater than .8**"
   ]
  },
  {
   "cell_type": "code",
   "execution_count": null,
   "metadata": {
    "_kg_hide-input": true,
    "_kg_hide-output": false,
    "execution": {
     "iopub.execute_input": "2022-01-06T08:34:16.66342Z",
     "iopub.status.busy": "2022-01-06T08:34:16.662502Z",
     "iopub.status.idle": "2022-01-06T08:34:19.266624Z",
     "shell.execute_reply": "2022-01-06T08:34:19.265164Z",
     "shell.execute_reply.started": "2022-01-06T08:34:16.663376Z"
    }
   },
   "outputs": [],
   "source": [
    "# I just checked correlated feature with greater than .8 here \n",
    "corr = insurance_df.corr()\n",
    "corr_greater_than_80 = corr[corr>=.8]\n",
    "corr_greater_than_80\n"
   ]
  },
  {
   "cell_type": "code",
   "execution_count": null,
   "metadata": {
    "_kg_hide-input": true,
    "execution": {
     "iopub.execute_input": "2022-01-06T08:34:19.268924Z",
     "iopub.status.busy": "2022-01-06T08:34:19.268008Z",
     "iopub.status.idle": "2022-01-06T08:34:20.392603Z",
     "shell.execute_reply": "2022-01-06T08:34:20.391409Z",
     "shell.execute_reply.started": "2022-01-06T08:34:19.268877Z"
    }
   },
   "outputs": [],
   "source": [
    "plt.figure(figsize=(12,8))\n",
    "sns.heatmap(corr_greater_than_80, cmap=\"Reds\");"
   ]
  },
  {
   "cell_type": "markdown",
   "metadata": {},
   "source": [
    "### **CONCLUSION**\n",
    "\n",
    "> BMI and Weight are highly correlated, which makes sense also as these 2 features are directly proprtional.\n",
    "\n",
    "> Ins_Age and Family_Hist_4, Family_Hist_2 highly correlated\n",
    "\n",
    "> Although, I am not going to perform any transformation on any feature or drop any as these are tree based models and they don't get affected by correlation much because of their non parametric nature."
   ]
  },
  {
   "cell_type": "code",
   "execution_count": null,
   "metadata": {
    "_kg_hide-input": true,
    "execution": {
     "iopub.execute_input": "2022-01-06T08:34:20.395099Z",
     "iopub.status.busy": "2022-01-06T08:34:20.394721Z",
     "iopub.status.idle": "2022-01-06T08:34:20.401489Z",
     "shell.execute_reply": "2022-01-06T08:34:20.400096Z",
     "shell.execute_reply.started": "2022-01-06T08:34:20.395061Z"
    }
   },
   "outputs": [],
   "source": [
    "#setting max columns to 200\n",
    "pd.set_option('display.max_columns', 200)\n",
    "pd.set_option('display.max_rows', 200)"
   ]
  },
  {
   "cell_type": "markdown",
   "metadata": {},
   "source": [
    "# **Null Value Check**"
   ]
  },
  {
   "cell_type": "code",
   "execution_count": null,
   "metadata": {
    "_kg_hide-input": true,
    "execution": {
     "iopub.execute_input": "2022-01-06T08:34:20.40384Z",
     "iopub.status.busy": "2022-01-06T08:34:20.403579Z",
     "iopub.status.idle": "2022-01-06T08:34:20.437016Z",
     "shell.execute_reply": "2022-01-06T08:34:20.436087Z",
     "shell.execute_reply.started": "2022-01-06T08:34:20.403815Z"
    }
   },
   "outputs": [],
   "source": [
    "#checking percentage of missing values in a column\n",
    "missing_val_count_by_column = insurance_df.isnull().sum()/len(insurance_df)\n",
    "\n",
    "print(missing_val_count_by_column[missing_val_count_by_column > 0.4].sort_values(ascending=False))"
   ]
  },
  {
   "cell_type": "markdown",
   "metadata": {},
   "source": [
    "# **Removing unimportant column**"
   ]
  },
  {
   "cell_type": "code",
   "execution_count": null,
   "metadata": {
    "_kg_hide-input": true,
    "_kg_hide-output": true,
    "execution": {
     "iopub.execute_input": "2022-01-06T08:34:20.438995Z",
     "iopub.status.busy": "2022-01-06T08:34:20.438239Z",
     "iopub.status.idle": "2022-01-06T08:34:20.500977Z",
     "shell.execute_reply": "2022-01-06T08:34:20.499342Z",
     "shell.execute_reply.started": "2022-01-06T08:34:20.438931Z"
    }
   },
   "outputs": [],
   "source": [
    "# Dropping all columns in which greater than 40 percent null values\n",
    "insurance_df = insurance_df.dropna(thresh=insurance_df.shape[0]*0.4,how='all',axis=1)"
   ]
  },
  {
   "cell_type": "code",
   "execution_count": null,
   "metadata": {
    "execution": {
     "iopub.execute_input": "2022-01-06T08:34:20.503715Z",
     "iopub.status.busy": "2022-01-06T08:34:20.502747Z",
     "iopub.status.idle": "2022-01-06T08:34:20.540147Z",
     "shell.execute_reply": "2022-01-06T08:34:20.53894Z",
     "shell.execute_reply.started": "2022-01-06T08:34:20.503657Z"
    }
   },
   "outputs": [],
   "source": [
    "# Does not contain important information\n",
    "insurance_df.drop('Product_Info_2',axis=1,inplace=True)"
   ]
  },
  {
   "cell_type": "markdown",
   "metadata": {},
   "source": [
    "# **X and Y split**"
   ]
  },
  {
   "cell_type": "code",
   "execution_count": null,
   "metadata": {
    "_kg_hide-input": true,
    "execution": {
     "iopub.execute_input": "2022-01-06T08:34:20.54199Z",
     "iopub.status.busy": "2022-01-06T08:34:20.541679Z",
     "iopub.status.idle": "2022-01-06T08:34:20.58159Z",
     "shell.execute_reply": "2022-01-06T08:34:20.579711Z",
     "shell.execute_reply.started": "2022-01-06T08:34:20.541953Z"
    }
   },
   "outputs": [],
   "source": [
    "# Data for all the independent variables\n",
    "X = insurance_df.drop(labels='Modified_Response',axis=1)\n",
    "\n",
    "# Data for the dependent variable\n",
    "Y = insurance_df['Modified_Response']"
   ]
  },
  {
   "cell_type": "markdown",
   "metadata": {},
   "source": [
    "# **Filling Remaining Missing Values**"
   ]
  },
  {
   "cell_type": "code",
   "execution_count": null,
   "metadata": {
    "_kg_hide-input": true,
    "execution": {
     "iopub.execute_input": "2022-01-06T08:34:20.583564Z",
     "iopub.status.busy": "2022-01-06T08:34:20.583205Z",
     "iopub.status.idle": "2022-01-06T08:34:20.709334Z",
     "shell.execute_reply": "2022-01-06T08:34:20.708073Z",
     "shell.execute_reply.started": "2022-01-06T08:34:20.583531Z"
    }
   },
   "outputs": [],
   "source": [
    "# Filling remaining missing values with mean\n",
    "X = X.fillna(X.mean())"
   ]
  },
  {
   "cell_type": "markdown",
   "metadata": {},
   "source": [
    "# **Train Test Split**"
   ]
  },
  {
   "cell_type": "code",
   "execution_count": null,
   "metadata": {
    "_kg_hide-input": true,
    "execution": {
     "iopub.execute_input": "2022-01-06T08:34:20.710896Z",
     "iopub.status.busy": "2022-01-06T08:34:20.710643Z",
     "iopub.status.idle": "2022-01-06T08:34:20.782266Z",
     "shell.execute_reply": "2022-01-06T08:34:20.781234Z",
     "shell.execute_reply.started": "2022-01-06T08:34:20.710869Z"
    }
   },
   "outputs": [],
   "source": [
    "# Train-test split\n",
    "\n",
    "X_train, X_test, Y_train, Y_test = train_test_split(X,Y,test_size = 0.25, random_state=1)"
   ]
  },
  {
   "cell_type": "markdown",
   "metadata": {},
   "source": [
    "# **Shapes of Train and Test Data**"
   ]
  },
  {
   "cell_type": "code",
   "execution_count": null,
   "metadata": {
    "_kg_hide-input": true,
    "execution": {
     "iopub.execute_input": "2022-01-06T08:34:20.783948Z",
     "iopub.status.busy": "2022-01-06T08:34:20.783698Z",
     "iopub.status.idle": "2022-01-06T08:34:20.790058Z",
     "shell.execute_reply": "2022-01-06T08:34:20.789392Z",
     "shell.execute_reply.started": "2022-01-06T08:34:20.783919Z"
    }
   },
   "outputs": [],
   "source": [
    "# Check the shape of train dataset\n",
    "print(X_train.shape,Y_train.shape)\n",
    "\n",
    "# Check the shape of test dataset\n",
    "print(X_test.shape, Y_test.shape)"
   ]
  },
  {
   "cell_type": "markdown",
   "metadata": {},
   "source": [
    "# **Some Important functions that I will be using throughout**"
   ]
  },
  {
   "cell_type": "code",
   "execution_count": null,
   "metadata": {
    "_kg_hide-input": false,
    "execution": {
     "iopub.execute_input": "2022-01-06T08:34:20.792397Z",
     "iopub.status.busy": "2022-01-06T08:34:20.791924Z",
     "iopub.status.idle": "2022-01-06T08:34:20.814661Z",
     "shell.execute_reply": "2022-01-06T08:34:20.813436Z",
     "shell.execute_reply.started": "2022-01-06T08:34:20.792234Z"
    }
   },
   "outputs": [],
   "source": [
    "# Utility Functions\n",
    "def check_scores(model, X_train, X_test ):\n",
    "  # Making predictions on train and test data\n",
    "\n",
    "  train_class_preds = model.predict(X_train)\n",
    "  test_class_preds = model.predict(X_test)\n",
    "\n",
    "\n",
    "  # Get the probabilities on train and test\n",
    "  train_preds = model.predict_proba(X_train)[:,1]\n",
    "  test_preds = model.predict_proba(X_test)[:,1]\n",
    "\n",
    "\n",
    "  # Calculating accuracy on train and test\n",
    "  train_accuracy = accuracy_score(Y_train,train_class_preds)\n",
    "  test_accuracy = accuracy_score(Y_test,test_class_preds)\n",
    "\n",
    "  print(\"The accuracy on train dataset is\", train_accuracy)\n",
    "  print(\"The accuracy on test dataset is\", test_accuracy)\n",
    "  print()\n",
    "  # Get the confusion matrices for train and test\n",
    "  train_cm = confusion_matrix(Y_train,train_class_preds)\n",
    "  test_cm = confusion_matrix(Y_test,test_class_preds )\n",
    "\n",
    "  print('Train confusion matrix:')\n",
    "  print( train_cm)\n",
    "  print()\n",
    "  print('Test confusion matrix:')\n",
    "  print(test_cm)\n",
    "  print()\n",
    "\n",
    "  # Get the roc_auc score for train and test dataset\n",
    "  train_auc = roc_auc_score(Y_train,train_preds)\n",
    "  test_auc = roc_auc_score(Y_test,test_preds)\n",
    "\n",
    "  print('ROC on train data:', train_auc)\n",
    "  print('ROC on test data:', test_auc)\n",
    "  \n",
    "  # Fscore, precision and recall on test data\n",
    "  f1 = f1_score(Y_test, test_class_preds)\n",
    "  precision = precision_score(Y_test, test_class_preds)\n",
    "  recall = recall_score(Y_test, test_class_preds) \n",
    "  \n",
    "  \n",
    "  #R2 score on train and test data\n",
    "  train_log = log_loss(Y_train,train_preds)\n",
    "  test_log = log_loss(Y_test, test_preds)\n",
    "\n",
    "  print()\n",
    "  print('Train log loss:', train_log)\n",
    "  print('Test log loss:', test_log)\n",
    "  print()\n",
    "  print(\"F score is:\",f1 )\n",
    "  print(\"Precision is:\",precision)\n",
    "  print(\"Recall is:\", recall)\n",
    "  return model, train_auc, test_auc, train_accuracy, test_accuracy,f1, precision,recall, train_log, test_log\n",
    "\n",
    "\n",
    "def check_importance(model, X_train):\n",
    "  #Checking importance of features\n",
    "  importances = model.feature_importances_\n",
    "  \n",
    "  #List of columns and their importances\n",
    "  importance_dict = {'Feature' : list(X_train.columns),\n",
    "                    'Feature Importance' : importances}\n",
    "  #Creating a dataframe\n",
    "  importance_df = pd.DataFrame(importance_dict)\n",
    "  \n",
    "  #Rounding it off to 2 digits as we might get exponential numbers\n",
    "  importance_df['Feature Importance'] = round(importance_df['Feature Importance'],2)\n",
    "  return importance_df.sort_values(by=['Feature Importance'],ascending=False)\n",
    "\n",
    "def grid_search(model, parameters, X_train, Y_train):\n",
    "  #Doing a grid\n",
    "  grid = GridSearchCV(estimator=model,\n",
    "                       param_grid = parameters,\n",
    "                       cv = 2, verbose=2, scoring='roc_auc')\n",
    "  #Fitting the grid \n",
    "  grid.fit(X_train,Y_train)\n",
    "  print()\n",
    "  print()\n",
    "  # Best model found using grid search\n",
    "  optimal_model = grid.best_estimator_\n",
    "  print('Best parameters are: ')\n",
    "  pprint( grid.best_params_)\n",
    "\n",
    "  return optimal_model\n",
    "\n",
    "\n",
    "\n",
    "# This function will show how a feature is pushing towards 0 or 1\n",
    "def interpret_with_lime(model, X_test):\n",
    "  # New data\n",
    "  interpretor = lime_tabular.LimeTabularExplainer(\n",
    "    training_data=np.array(X_train),\n",
    "    feature_names=X_train.columns,\n",
    "    mode='classification')\n",
    "  \n",
    "\n",
    "  exp = interpretor.explain_instance(\n",
    "      data_row=X_test.iloc[10], \n",
    "      predict_fn=model.predict_proba\n",
    "  )\n",
    "\n",
    "  exp.show_in_notebook(show_table=True)\n",
    "\n",
    "# This gives feature importance\n",
    "def plot_feature_importance(model, X_train):\n",
    "  # PLotting features vs their importance factors\n",
    "  fig = plt.figure(figsize = (15, 8))\n",
    "  \n",
    "  # Extracting importance values\n",
    "  values =check_importance(model, X_train)[check_importance(model, X_train)['Feature Importance']>0]['Feature Importance'].values\n",
    "  \n",
    "  \n",
    "  # Extracting importance features\n",
    "  features = check_importance(model, X_train)[check_importance(model, X_train)['Feature Importance']>0]['Feature'].values\n",
    "\n",
    "  plt.bar(features, values, color ='blue',\n",
    "          width = 0.4)\n",
    "  plt.xticks( rotation='vertical')\n",
    "  plt.show()"
   ]
  },
  {
   "cell_type": "markdown",
   "metadata": {},
   "source": [
    "# **Random Forest**\n"
   ]
  },
  {
   "cell_type": "code",
   "execution_count": null,
   "metadata": {
    "_kg_hide-output": true,
    "execution": {
     "iopub.execute_input": "2022-01-06T08:34:20.816452Z",
     "iopub.status.busy": "2022-01-06T08:34:20.815808Z",
     "iopub.status.idle": "2022-01-06T08:36:49.721665Z",
     "shell.execute_reply": "2022-01-06T08:36:49.72062Z",
     "shell.execute_reply.started": "2022-01-06T08:34:20.816283Z"
    }
   },
   "outputs": [],
   "source": [
    "\n",
    "# Number of trees\n",
    "n_estimators = [50,80,100]\n",
    "\n",
    "# Maximum depth of trees\n",
    "max_depth = [4,6,8]\n",
    "\n",
    "# Minimum number of samples required to split a node\n",
    "min_samples_split = [50,100,150]\n",
    "\n",
    "# Minimum number of samples required at each leaf node\n",
    "min_samples_leaf = [40,50]\n",
    "\n",
    "# Hyperparameter Grid\n",
    "rf_parameters = {'n_estimators' : n_estimators,\n",
    "              'max_depth' : max_depth,\n",
    "              'min_samples_split' : min_samples_split,\n",
    "              'min_samples_leaf' : min_samples_leaf}\n",
    "\n",
    "pprint(rf_parameters)\n",
    "\n",
    "#finding the best model\n",
    "rf_optimal_model = grid_search(RandomForestClassifier(), rf_parameters, X_train, Y_train)"
   ]
  },
  {
   "cell_type": "code",
   "execution_count": null,
   "metadata": {
    "_kg_hide-input": true,
    "execution": {
     "iopub.execute_input": "2022-01-06T08:36:49.723072Z",
     "iopub.status.busy": "2022-01-06T08:36:49.722856Z",
     "iopub.status.idle": "2022-01-06T08:36:51.114747Z",
     "shell.execute_reply": "2022-01-06T08:36:51.113962Z",
     "shell.execute_reply.started": "2022-01-06T08:36:49.723047Z"
    }
   },
   "outputs": [],
   "source": [
    "# Getting scores from all the metrices\n",
    "rf_model, rf_train_auc, rf_test_auc, rf_train_accuracy, rf_test_accuracy,rf_f1, rf_precision,rf_recall,rf_train_log, rf_test_log = check_scores(rf_optimal_model, X_train, X_test )"
   ]
  },
  {
   "cell_type": "markdown",
   "metadata": {},
   "source": [
    "# **Feature Importance For Random Forest**"
   ]
  },
  {
   "cell_type": "code",
   "execution_count": null,
   "metadata": {
    "_kg_hide-input": true,
    "execution": {
     "iopub.execute_input": "2022-01-06T08:36:51.120014Z",
     "iopub.status.busy": "2022-01-06T08:36:51.119737Z",
     "iopub.status.idle": "2022-01-06T08:36:51.163542Z",
     "shell.execute_reply": "2022-01-06T08:36:51.162512Z",
     "shell.execute_reply.started": "2022-01-06T08:36:51.119985Z"
    }
   },
   "outputs": [],
   "source": [
    "# Getting the feature importance for all the features\n",
    "check_importance(rf_model, X_train)"
   ]
  },
  {
   "cell_type": "markdown",
   "metadata": {},
   "source": [
    "# **Plotting only those features which are contributing something**\n"
   ]
  },
  {
   "cell_type": "code",
   "execution_count": null,
   "metadata": {
    "_kg_hide-input": true,
    "execution": {
     "iopub.execute_input": "2022-01-06T08:36:51.165219Z",
     "iopub.status.busy": "2022-01-06T08:36:51.164905Z",
     "iopub.status.idle": "2022-01-06T08:36:51.536811Z",
     "shell.execute_reply": "2022-01-06T08:36:51.536061Z",
     "shell.execute_reply.started": "2022-01-06T08:36:51.165181Z"
    }
   },
   "outputs": [],
   "source": [
    "# PLotting only those features which are contributing something\n",
    "plot_feature_importance(rf_model, X_train)"
   ]
  },
  {
   "cell_type": "markdown",
   "metadata": {},
   "source": [
    "### **CONCLUSION:**\n",
    "\n",
    "> BMI, weight, Medical_History_23, Medical_History_4 and Medical_Keyword_15 seems to be important features according to random forest.\n",
    "\n",
    "> Also, only these features are contributing to the model prediction. Some features can be elmininated which are not contributing on further investigation."
   ]
  },
  {
   "cell_type": "markdown",
   "metadata": {},
   "source": [
    "## **Model Interpretability For Random Forest**\n",
    "\n",
    "\n",
    "\n",
    "\n"
   ]
  },
  {
   "cell_type": "markdown",
   "metadata": {},
   "source": [
    "### **Using Lime**"
   ]
  },
  {
   "cell_type": "code",
   "execution_count": null,
   "metadata": {
    "_kg_hide-input": true,
    "execution": {
     "iopub.execute_input": "2022-01-06T08:36:51.538071Z",
     "iopub.status.busy": "2022-01-06T08:36:51.537756Z",
     "iopub.status.idle": "2022-01-06T08:37:13.517146Z",
     "shell.execute_reply": "2022-01-06T08:37:13.516146Z",
     "shell.execute_reply.started": "2022-01-06T08:36:51.538046Z"
    }
   },
   "outputs": [],
   "source": [
    "\n",
    "# Interpretting the model using lime\n",
    "interpret_with_lime(rf_model,X_test)"
   ]
  },
  {
   "cell_type": "markdown",
   "metadata": {},
   "source": [
    "### **Using Shap**"
   ]
  },
  {
   "cell_type": "code",
   "execution_count": null,
   "metadata": {
    "_kg_hide-input": true,
    "execution": {
     "iopub.execute_input": "2022-01-06T08:37:13.519247Z",
     "iopub.status.busy": "2022-01-06T08:37:13.518707Z",
     "iopub.status.idle": "2022-01-06T08:38:56.250058Z",
     "shell.execute_reply": "2022-01-06T08:38:56.249049Z",
     "shell.execute_reply.started": "2022-01-06T08:37:13.519203Z"
    }
   },
   "outputs": [],
   "source": [
    "\n",
    "# Interpretting the model using shaply\n",
    "X_shap=X_train\n",
    "\n",
    "rf_explainer = shap.TreeExplainer(rf_model)\n",
    "rf_shap_values = rf_explainer.shap_values(X_shap)\n",
    "shap.summary_plot(rf_shap_values, X_shap, plot_type=\"bar\")"
   ]
  },
  {
   "cell_type": "markdown",
   "metadata": {},
   "source": [
    "#### **Findings**\n",
    "\n",
    "> Medical keyword 15,medical history 9,  Wt, medical history 3 all pushing towards 1.\n",
    "\n",
    "> Orange ones are pusing towards 1."
   ]
  },
  {
   "cell_type": "markdown",
   "metadata": {},
   "source": [
    "## **Dependence Plots**"
   ]
  },
  {
   "cell_type": "code",
   "execution_count": null,
   "metadata": {
    "_kg_hide-input": true,
    "execution": {
     "iopub.execute_input": "2022-01-06T08:38:56.25142Z",
     "iopub.status.busy": "2022-01-06T08:38:56.251186Z",
     "iopub.status.idle": "2022-01-06T08:39:11.66423Z",
     "shell.execute_reply": "2022-01-06T08:39:11.663392Z",
     "shell.execute_reply.started": "2022-01-06T08:38:56.251394Z"
    }
   },
   "outputs": [],
   "source": [
    "# Plotting for top 5 features\n",
    "top_vars = ['BMI','Medical_Keyword_15','Medical_History_4','Wt','Medical_History_23']\n",
    "index_top_vars =[list(X_train.columns).index(var) for var in top_vars]\n",
    "\n",
    "for elem in index_top_vars:\n",
    "    shap.dependence_plot(elem, rf_shap_values[0], X_train)"
   ]
  },
  {
   "cell_type": "markdown",
   "metadata": {},
   "source": [
    "### **Findings**\n",
    "\n",
    "> With high medical history 23 and low bmi we get class 1"
   ]
  },
  {
   "cell_type": "markdown",
   "metadata": {},
   "source": [
    "# **Gradient Boosting**\n",
    "\n",
    "\n"
   ]
  },
  {
   "cell_type": "code",
   "execution_count": null,
   "metadata": {
    "_kg_hide-output": true,
    "execution": {
     "iopub.execute_input": "2022-01-06T08:39:11.66547Z",
     "iopub.status.busy": "2022-01-06T08:39:11.66523Z",
     "iopub.status.idle": "2022-01-06T08:55:32.649999Z",
     "shell.execute_reply": "2022-01-06T08:55:32.648944Z",
     "shell.execute_reply.started": "2022-01-06T08:39:11.665444Z"
    }
   },
   "outputs": [],
   "source": [
    "#finding the best model\n",
    "gb_parameters ={\n",
    "    \"n_estimators\":[5,50,250],\n",
    "    \"max_depth\":[1,3,5,7],\n",
    "    \"learning_rate\":[0.01,0.1,1]\n",
    "}\n",
    "\n",
    "pprint(gb_parameters)\n",
    "\n",
    "gb_optimal_model = grid_search(GradientBoostingClassifier(), gb_parameters, X_train, Y_train)"
   ]
  },
  {
   "cell_type": "markdown",
   "metadata": {},
   "source": [
    "# **Feature Importance For Gradient Boosting**"
   ]
  },
  {
   "cell_type": "code",
   "execution_count": null,
   "metadata": {
    "_kg_hide-input": true,
    "execution": {
     "iopub.execute_input": "2022-01-06T08:55:32.651598Z",
     "iopub.status.busy": "2022-01-06T08:55:32.651337Z",
     "iopub.status.idle": "2022-01-06T08:55:34.188018Z",
     "shell.execute_reply": "2022-01-06T08:55:34.18694Z",
     "shell.execute_reply.started": "2022-01-06T08:55:32.65157Z"
    }
   },
   "outputs": [],
   "source": [
    "# Getting the scpres for all the score metrics used here\n",
    "gb_model, gb_train_auc, gb_test_auc, gb_train_accuracy, gb_test_accuracy,gb_f1, gb_precision,gb_recall,gb_train_log, gb_test_log = check_scores(gb_optimal_model, X_train, X_test )"
   ]
  },
  {
   "cell_type": "code",
   "execution_count": null,
   "metadata": {
    "_kg_hide-input": true,
    "execution": {
     "iopub.execute_input": "2022-01-06T08:55:34.18998Z",
     "iopub.status.busy": "2022-01-06T08:55:34.189671Z",
     "iopub.status.idle": "2022-01-06T08:55:34.216064Z",
     "shell.execute_reply": "2022-01-06T08:55:34.215122Z",
     "shell.execute_reply.started": "2022-01-06T08:55:34.18994Z"
    }
   },
   "outputs": [],
   "source": [
    "# Getting feature importance\n",
    "check_importance(gb_model, X_train)"
   ]
  },
  {
   "cell_type": "code",
   "execution_count": null,
   "metadata": {
    "_kg_hide-input": true,
    "execution": {
     "iopub.execute_input": "2022-01-06T08:55:34.21797Z",
     "iopub.status.busy": "2022-01-06T08:55:34.217659Z",
     "iopub.status.idle": "2022-01-06T08:55:34.548773Z",
     "shell.execute_reply": "2022-01-06T08:55:34.547845Z",
     "shell.execute_reply.started": "2022-01-06T08:55:34.21793Z"
    }
   },
   "outputs": [],
   "source": [
    "# PLotting only those features which are contributing something\n",
    "plot_feature_importance(gb_model, X_train)"
   ]
  },
  {
   "cell_type": "markdown",
   "metadata": {},
   "source": [
    "#### **CONCLUSION:**\n",
    "\n",
    "> BMI, weight, Medical_History_23, Medical_History_4 and Medical_Keyword_15 seems to be the most important 5 features according to Gradient boosting.\n"
   ]
  },
  {
   "cell_type": "markdown",
   "metadata": {},
   "source": [
    "# **Model Interpretability For Gradient Boosting**"
   ]
  },
  {
   "cell_type": "markdown",
   "metadata": {},
   "source": [
    "### **Using Lime**"
   ]
  },
  {
   "cell_type": "code",
   "execution_count": null,
   "metadata": {
    "_kg_hide-input": true,
    "execution": {
     "iopub.execute_input": "2022-01-06T08:55:34.5508Z",
     "iopub.status.busy": "2022-01-06T08:55:34.550488Z",
     "iopub.status.idle": "2022-01-06T08:55:56.281445Z",
     "shell.execute_reply": "2022-01-06T08:55:56.280384Z",
     "shell.execute_reply.started": "2022-01-06T08:55:34.55076Z"
    }
   },
   "outputs": [],
   "source": [
    "# Interpretting the model using lime\n",
    "interpret_with_lime(gb_model,X_test)"
   ]
  },
  {
   "cell_type": "markdown",
   "metadata": {},
   "source": [
    "### **Using Shap**"
   ]
  },
  {
   "cell_type": "code",
   "execution_count": null,
   "metadata": {
    "_kg_hide-input": true,
    "execution": {
     "iopub.execute_input": "2022-01-06T08:55:56.284146Z",
     "iopub.status.busy": "2022-01-06T08:55:56.283408Z",
     "iopub.status.idle": "2022-01-06T08:56:53.482532Z",
     "shell.execute_reply": "2022-01-06T08:56:53.481446Z",
     "shell.execute_reply.started": "2022-01-06T08:55:56.284087Z"
    }
   },
   "outputs": [],
   "source": [
    "\n",
    "# Interpretting the model using shaply\n",
    "X_shap=X_train\n",
    "\n",
    "gb_explainer = shap.TreeExplainer(gb_model)\n",
    "gb_shap_values = gb_explainer.shap_values(X_shap)\n",
    "shap.summary_plot(gb_shap_values, X_shap, plot_type=\"dot\")"
   ]
  },
  {
   "cell_type": "markdown",
   "metadata": {},
   "source": [
    "#### **Findings**\n",
    "> BMI is pushing models prediction towards 0.\n",
    "\n",
    ">Medical keyword 15 is pushing towards 1. However, medical keyword 4 is pushing towards 0.\n",
    "\n",
    "> Also, according to feature plot Wt. was in top 5 most important features, same isn't followed here."
   ]
  },
  {
   "cell_type": "markdown",
   "metadata": {},
   "source": [
    "## **Dependence Plots**"
   ]
  },
  {
   "cell_type": "code",
   "execution_count": null,
   "metadata": {
    "_kg_hide-input": true,
    "execution": {
     "iopub.execute_input": "2022-01-06T08:56:53.484397Z",
     "iopub.status.busy": "2022-01-06T08:56:53.484069Z",
     "iopub.status.idle": "2022-01-06T08:57:08.632156Z",
     "shell.execute_reply": "2022-01-06T08:57:08.63121Z",
     "shell.execute_reply.started": "2022-01-06T08:56:53.484359Z"
    }
   },
   "outputs": [],
   "source": [
    "#PLotting for top 5 features\n",
    "top_vars = ['BMI','Medical_Keyword_15','Medical_History_4','Product_Info_4','Medical_History_23']\n",
    "index_top_vars =[list(X_train.columns).index(var) for var in top_vars]\n",
    "\n",
    "for elem in index_top_vars:\n",
    "    shap.dependence_plot(elem, gb_shap_values, X_train)"
   ]
  },
  {
   "cell_type": "markdown",
   "metadata": {},
   "source": [
    "### **Findings**\n",
    "\n",
    "> For low BMI and high medical history 23 we get class as 1.\n",
    "\n"
   ]
  },
  {
   "cell_type": "markdown",
   "metadata": {},
   "source": [
    "# **XGBOOST**"
   ]
  },
  {
   "cell_type": "code",
   "execution_count": null,
   "metadata": {
    "_kg_hide-output": true,
    "execution": {
     "iopub.execute_input": "2022-01-06T08:57:08.633889Z",
     "iopub.status.busy": "2022-01-06T08:57:08.633564Z",
     "iopub.status.idle": "2022-01-06T08:57:25.815974Z",
     "shell.execute_reply": "2022-01-06T08:57:25.81494Z",
     "shell.execute_reply.started": "2022-01-06T08:57:08.633848Z"
    }
   },
   "outputs": [],
   "source": [
    "# Parameter grid for xgboost\n",
    "xgb_parameters = {'max_depth': [1,3,5], 'n_estimators': [2,5,10], 'learning_rate': [.01 , .1, .5]}\n",
    "print('XGB parameters areL:')\n",
    "pprint(xgb_parameters)\n",
    "#finding the best model\n",
    "xgb_optimal_model = grid_search(XGBClassifier(), xgb_parameters, X_train, Y_train)\n",
    "\n",
    "\n"
   ]
  },
  {
   "cell_type": "code",
   "execution_count": null,
   "metadata": {
    "_kg_hide-input": true,
    "execution": {
     "iopub.execute_input": "2022-01-06T08:57:25.817397Z",
     "iopub.status.busy": "2022-01-06T08:57:25.817152Z",
     "iopub.status.idle": "2022-01-06T08:57:26.082669Z",
     "shell.execute_reply": "2022-01-06T08:57:26.081721Z",
     "shell.execute_reply.started": "2022-01-06T08:57:25.81737Z"
    }
   },
   "outputs": [],
   "source": [
    "# Getting the scores for all the score metrics used here\n",
    "xgb_model, xgb_train_auc, xgb_test_auc, xgb_train_accuracy, xgb_test_accuracy,xgb_f1, xgb_precision,xgb_recall,xgb_train_log, xgb_test_log= check_scores(xgb_optimal_model, X_train, X_test )"
   ]
  },
  {
   "cell_type": "markdown",
   "metadata": {},
   "source": [
    "# **Feature Importance For XGBoost**"
   ]
  },
  {
   "cell_type": "code",
   "execution_count": null,
   "metadata": {
    "_kg_hide-input": true,
    "execution": {
     "iopub.execute_input": "2022-01-06T08:57:26.084418Z",
     "iopub.status.busy": "2022-01-06T08:57:26.084037Z",
     "iopub.status.idle": "2022-01-06T08:57:26.113998Z",
     "shell.execute_reply": "2022-01-06T08:57:26.113081Z",
     "shell.execute_reply.started": "2022-01-06T08:57:26.084379Z"
    }
   },
   "outputs": [],
   "source": [
    "# Getting feature importance\n",
    "\n",
    "check_importance(xgb_model, X_train)"
   ]
  },
  {
   "cell_type": "markdown",
   "metadata": {},
   "source": [
    "### **Conclusion:**\n",
    "\n",
    "> Same trend is seen here.\n",
    "\n",
    "> They all are giving similar scores also so it could be that same features are contributing the most thus similar scores.\n"
   ]
  },
  {
   "cell_type": "markdown",
   "metadata": {},
   "source": [
    "# **Model Interpretability for XGBoost**"
   ]
  },
  {
   "cell_type": "markdown",
   "metadata": {},
   "source": [
    "## **Using Shap**"
   ]
  },
  {
   "cell_type": "code",
   "execution_count": null,
   "metadata": {
    "_kg_hide-input": true,
    "execution": {
     "iopub.execute_input": "2022-01-06T08:57:26.11551Z",
     "iopub.status.busy": "2022-01-06T08:57:26.115146Z",
     "iopub.status.idle": "2022-01-06T08:57:35.000867Z",
     "shell.execute_reply": "2022-01-06T08:57:35.000236Z",
     "shell.execute_reply.started": "2022-01-06T08:57:26.115478Z"
    }
   },
   "outputs": [],
   "source": [
    "\n",
    "# Interpretting the model using shaply\n",
    "\n",
    "xgb_explainer = shap.TreeExplainer(xgb_model)\n",
    "xgb_shap_values = xgb_explainer.shap_values(X_shap)\n",
    "shap.summary_plot(xgb_shap_values, X_shap, plot_type=\"dot\")"
   ]
  },
  {
   "cell_type": "markdown",
   "metadata": {},
   "source": [
    "> Again BMI is pushing towards class 0.\n",
    "\n",
    "> MEdical history 4 pushing towards class 1."
   ]
  },
  {
   "cell_type": "markdown",
   "metadata": {},
   "source": [
    "## **Dependence Plots**"
   ]
  },
  {
   "cell_type": "code",
   "execution_count": null,
   "metadata": {
    "_kg_hide-input": true,
    "execution": {
     "iopub.execute_input": "2022-01-06T08:57:35.002388Z",
     "iopub.status.busy": "2022-01-06T08:57:35.001748Z",
     "iopub.status.idle": "2022-01-06T08:57:52.09626Z",
     "shell.execute_reply": "2022-01-06T08:57:52.095442Z",
     "shell.execute_reply.started": "2022-01-06T08:57:35.002357Z"
    }
   },
   "outputs": [],
   "source": [
    "#PLotting for top 5 features\n",
    "top_vars = ['BMI','Medical_Keyword_15','Medical_History_4','Product_Info_4','Medical_History_23']\n",
    "index_top_vars =[list(X_train.columns).index(var) for var in top_vars]\n",
    "\n",
    "for elem in index_top_vars:\n",
    "    shap.dependence_plot(elem, xgb_shap_values, X_train)"
   ]
  },
  {
   "cell_type": "markdown",
   "metadata": {},
   "source": [
    "> For product info 4 and wt we see some interesting trend"
   ]
  },
  {
   "cell_type": "markdown",
   "metadata": {},
   "source": [
    "# **Logistic Regression**"
   ]
  },
  {
   "cell_type": "code",
   "execution_count": null,
   "metadata": {
    "_kg_hide-output": true,
    "execution": {
     "iopub.execute_input": "2022-01-06T08:57:52.098304Z",
     "iopub.status.busy": "2022-01-06T08:57:52.097839Z",
     "iopub.status.idle": "2022-01-06T09:01:59.964282Z",
     "shell.execute_reply": "2022-01-06T09:01:59.963436Z",
     "shell.execute_reply.started": "2022-01-06T08:57:52.098261Z"
    }
   },
   "outputs": [],
   "source": [
    "\n",
    "# Parameter grid for Logistic Regression\n",
    "solvers = ['lbfgs']\n",
    "penalty = ['l2']\n",
    "c_values = [100, 10, 1.0, 0.1, 0.01]\n",
    "lr_parameters = dict(solver=solvers,penalty=penalty,C=c_values)# define grid search\n",
    "\n",
    "#finding the best model\n",
    "lr_optimal_model = grid_search(LogisticRegression( max_iter=5000), lr_parameters, X_train, Y_train)\n",
    "\n"
   ]
  },
  {
   "cell_type": "code",
   "execution_count": null,
   "metadata": {
    "_kg_hide-input": true,
    "execution": {
     "iopub.execute_input": "2022-01-06T09:01:59.966274Z",
     "iopub.status.busy": "2022-01-06T09:01:59.965671Z",
     "iopub.status.idle": "2022-01-06T09:02:00.252211Z",
     "shell.execute_reply": "2022-01-06T09:02:00.251296Z",
     "shell.execute_reply.started": "2022-01-06T09:01:59.96623Z"
    }
   },
   "outputs": [],
   "source": [
    "# Getting the scores for all the score metrics used here\n",
    "\n",
    "lr_model, lr_train_auc, lr_test_auc, lr_train_accuracy, lr_test_accuracy,lr_f1, lr_precision, lr_recall,lr_train_log, lr_test_log = check_scores(lr_optimal_model, X_train, X_test )"
   ]
  },
  {
   "cell_type": "markdown",
   "metadata": {},
   "source": [
    "# **Feature Importance For Logistic Regression**"
   ]
  },
  {
   "cell_type": "code",
   "execution_count": null,
   "metadata": {
    "_kg_hide-input": true,
    "execution": {
     "iopub.execute_input": "2022-01-06T09:02:00.254153Z",
     "iopub.status.busy": "2022-01-06T09:02:00.253648Z",
     "iopub.status.idle": "2022-01-06T09:02:00.281308Z",
     "shell.execute_reply": "2022-01-06T09:02:00.280357Z",
     "shell.execute_reply.started": "2022-01-06T09:02:00.254107Z"
    }
   },
   "outputs": [],
   "source": [
    "# Making a dataframe with coefficients and the feature names respectively\n",
    "importance_df_lr = pd.concat([ pd.DataFrame(data =((X_train.columns).values).reshape(-1,1), columns = ['Feature']), pd.DataFrame(data =np.round(lr_optimal_model.coef_,2).reshape(-1,1), columns = ['Feature Importance'])], axis=1 )\n",
    "importance_df_lr.sort_values(by=['Feature Importance'],ascending=False, inplace = True)\n",
    "importance_df_lr"
   ]
  },
  {
   "cell_type": "code",
   "execution_count": null,
   "metadata": {
    "_kg_hide-input": true,
    "execution": {
     "iopub.execute_input": "2022-01-06T09:02:00.283206Z",
     "iopub.status.busy": "2022-01-06T09:02:00.282667Z",
     "iopub.status.idle": "2022-01-06T09:02:01.506631Z",
     "shell.execute_reply": "2022-01-06T09:02:01.505725Z",
     "shell.execute_reply.started": "2022-01-06T09:02:00.283163Z"
    }
   },
   "outputs": [],
   "source": [
    "# Plotting feature vs importance\n",
    "fig = plt.figure(figsize = (15, 8))\n",
    "\n",
    "values =importance_df_lr[importance_df_lr['Feature Importance']>0]['Feature Importance'].values\n",
    "\n",
    "features = importance_df_lr[importance_df_lr['Feature Importance']>0]['Feature'].values\n",
    "\n",
    "plt.bar(features, values, color ='blue',\n",
    "          width = 0.4)\n",
    "plt.xticks( rotation='vertical')\n",
    "plt.show()"
   ]
  },
  {
   "cell_type": "markdown",
   "metadata": {},
   "source": [
    "#### **Conclusion**\n",
    "\n",
    "> **And again the same pattern when doing feature importance**"
   ]
  },
  {
   "cell_type": "markdown",
   "metadata": {},
   "source": [
    "# **Model Interpretability for logistic regression**"
   ]
  },
  {
   "cell_type": "markdown",
   "metadata": {},
   "source": [
    "## **Using Lime**"
   ]
  },
  {
   "cell_type": "code",
   "execution_count": null,
   "metadata": {
    "_kg_hide-input": true,
    "execution": {
     "iopub.execute_input": "2022-01-06T09:02:01.508176Z",
     "iopub.status.busy": "2022-01-06T09:02:01.507881Z",
     "iopub.status.idle": "2022-01-06T09:02:23.121779Z",
     "shell.execute_reply": "2022-01-06T09:02:23.120835Z",
     "shell.execute_reply.started": "2022-01-06T09:02:01.508138Z"
    }
   },
   "outputs": [],
   "source": [
    "\n",
    "# Interpretting the model using lime\n",
    "interpret_with_lime(lr_model,X_test)"
   ]
  },
  {
   "cell_type": "markdown",
   "metadata": {},
   "source": [
    "### **Findings**\n",
    "\n",
    "> Only BMI and medical history 4 pushing towards class 0"
   ]
  },
  {
   "cell_type": "markdown",
   "metadata": {},
   "source": [
    "# **Max Voting Model**"
   ]
  },
  {
   "cell_type": "code",
   "execution_count": null,
   "metadata": {
    "_kg_hide-output": true,
    "execution": {
     "iopub.execute_input": "2022-01-06T09:02:23.124587Z",
     "iopub.status.busy": "2022-01-06T09:02:23.12392Z",
     "iopub.status.idle": "2022-01-06T09:04:26.283728Z",
     "shell.execute_reply": "2022-01-06T09:04:26.282892Z",
     "shell.execute_reply.started": "2022-01-06T09:02:23.124537Z"
    }
   },
   "outputs": [],
   "source": [
    "# Appending all the models to estimators list\n",
    "estimators = []\n",
    "\n",
    "estimators.append(('logistic', lr_optimal_model))\n",
    "estimators.append(('XGB', xgb_optimal_model))\n",
    "estimators.append(('GB', gb_optimal_model))\n",
    "estimators.append(('rf', rf_optimal_model))\n",
    "\n",
    "# create the voting model\n",
    "voting_model = VotingClassifier(estimators, voting='soft')\n",
    "\n",
    "voting_model.fit(X_train, Y_train)\n"
   ]
  },
  {
   "cell_type": "code",
   "execution_count": null,
   "metadata": {
    "_kg_hide-input": true,
    "execution": {
     "iopub.execute_input": "2022-01-06T09:04:26.285896Z",
     "iopub.status.busy": "2022-01-06T09:04:26.285353Z",
     "iopub.status.idle": "2022-01-06T09:04:29.529731Z",
     "shell.execute_reply": "2022-01-06T09:04:29.529064Z",
     "shell.execute_reply.started": "2022-01-06T09:04:26.285853Z"
    }
   },
   "outputs": [],
   "source": [
    "# Getting all the scores and errors\n",
    "voting_model, voting_train_auc, voting_test_auc, voting_train_accuracy, voting_test_accuracy, voting_f1, voting_precision, voting_recall, voting_train_log, voting_test_log = check_scores(voting_model, X_train, X_test )"
   ]
  },
  {
   "cell_type": "markdown",
   "metadata": {},
   "source": [
    "# **Stacked Model**"
   ]
  },
  {
   "cell_type": "code",
   "execution_count": null,
   "metadata": {
    "_kg_hide-output": true,
    "execution": {
     "iopub.execute_input": "2022-01-06T09:04:29.53156Z",
     "iopub.status.busy": "2022-01-06T09:04:29.531047Z",
     "iopub.status.idle": "2022-01-06T09:06:40.96553Z",
     "shell.execute_reply": "2022-01-06T09:06:40.96452Z",
     "shell.execute_reply.started": "2022-01-06T09:04:29.531522Z"
    }
   },
   "outputs": [],
   "source": [
    "#Building a stacked classifier\n",
    "stacked_classifier = StackingClassifier(classifiers =[lr_optimal_model, xgb_optimal_model, gb_model], meta_classifier = RandomForestClassifier(), use_probas = True, use_features_in_secondary = True)\n",
    "\n",
    "# training of stacked model\n",
    "stacked_model = stacked_classifier.fit(X_train, Y_train)   \n"
   ]
  },
  {
   "cell_type": "code",
   "execution_count": null,
   "metadata": {
    "_kg_hide-output": false,
    "execution": {
     "iopub.execute_input": "2022-01-06T09:06:40.966923Z",
     "iopub.status.busy": "2022-01-06T09:06:40.966653Z",
     "iopub.status.idle": "2022-01-06T09:06:45.886844Z",
     "shell.execute_reply": "2022-01-06T09:06:45.885889Z",
     "shell.execute_reply.started": "2022-01-06T09:06:40.966893Z"
    }
   },
   "outputs": [],
   "source": [
    "stacked_model, stacked_train_auc, stacked_test_auc, stacked_train_accuracy, stacked_test_accuracy, stacked_f1, stacked_precision, stacked_recall, stacked_train_log, stacked_test_log = check_scores(stacked_model, X_train, X_test )"
   ]
  },
  {
   "cell_type": "markdown",
   "metadata": {},
   "source": [
    "# **Models And Their Accuracies**"
   ]
  },
  {
   "cell_type": "code",
   "execution_count": null,
   "metadata": {
    "_kg_hide-input": true,
    "execution": {
     "iopub.execute_input": "2022-01-06T09:06:45.888363Z",
     "iopub.status.busy": "2022-01-06T09:06:45.888083Z",
     "iopub.status.idle": "2022-01-06T09:06:45.911257Z",
     "shell.execute_reply": "2022-01-06T09:06:45.910597Z",
     "shell.execute_reply.started": "2022-01-06T09:06:45.888313Z"
    }
   },
   "outputs": [],
   "source": [
    "# Making a dataframe of all the scores for every model\n",
    "\n",
    "scores_ = [(\"Random Forest\", rf_train_auc, rf_test_auc, rf_train_accuracy, rf_test_accuracy,rf_train_log, rf_test_log,rf_f1, rf_precision, rf_recall),\n",
    "(\"Gradient Boosting\",  gb_train_auc, gb_test_auc, gb_train_accuracy, gb_test_accuracy,gb_train_log, gb_test_log,gb_f1, gb_precision,gb_recall,),\n",
    "(\"XG Boost\", xgb_train_auc, xgb_test_auc, xgb_train_accuracy, xgb_test_accuracy,xgb_train_log, xgb_test_log,xgb_f1, xgb_precision, xgb_recall),\n",
    "(\"Logistic Regression\", lr_train_auc, lr_test_auc, lr_train_accuracy, lr_test_accuracy,lr_train_log, lr_test_log,lr_f1, lr_precision, lr_recall,),\n",
    "(\"Voting Classifier\", voting_train_auc, voting_test_auc, voting_train_accuracy, voting_test_accuracy, voting_train_log, voting_test_log, voting_f1, voting_precision, voting_recall),\n",
    "(\"Stacked Model\", stacked_train_auc, stacked_test_auc, stacked_train_accuracy, stacked_test_accuracy, stacked_train_log, stacked_test_log, stacked_f1, stacked_precision, stacked_recall)]\n",
    "\n",
    "Scores_ =pd.DataFrame(data = scores_, columns=['Model Name', 'Train ROC', 'Test ROC', 'Train Accuracy', 'Test Accuracy', 'Train Log Loss','Test Log Loss','F-Score', 'Precision','Recall',])\n",
    "Scores_.set_index('Model Name', inplace = True)\n",
    "\n",
    "Scores_\n"
   ]
  },
  {
   "cell_type": "markdown",
   "metadata": {},
   "source": [
    "# **Final Results**\n",
    "\n",
    "> **Gradient Boosting, Voting Classifier and Stacked models are performing really well. Their train and test errors and also the roc scores and f scores are really close and good.**"
   ]
  }
 ],
 "metadata": {
  "kernelspec": {
   "display_name": "Python 3 (ipykernel)",
   "language": "python",
   "name": "python3"
  },
  "language_info": {
   "codemirror_mode": {
    "name": "ipython",
    "version": 3
   },
   "file_extension": ".py",
   "mimetype": "text/x-python",
   "name": "python",
   "nbconvert_exporter": "python",
   "pygments_lexer": "ipython3",
   "version": "3.9.7"
  }
 },
 "nbformat": 4,
 "nbformat_minor": 4
}
